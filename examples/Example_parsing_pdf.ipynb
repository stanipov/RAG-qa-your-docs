{
 "cells": [
  {
   "cell_type": "code",
   "execution_count": 14,
   "id": "36815138-c1db-46e4-888b-9ffbe57bb036",
   "metadata": {},
   "outputs": [],
   "source": [
    "from langchain_community.document_loaders import UnstructuredPDFLoader\n",
    "from src.utils import save_docs_to_jsonl\n",
    "\n",
    "import os\n",
    "from tqdm.auto import tqdm\n",
    "from langchain_community.document_loaders import PyPDFLoader\n",
    "from typing import List\n",
    "import re\n",
    "from copy import copy as CP\n",
    "import numpy as np\n",
    "import matplotlib.pyplot as plt"
   ]
  },
  {
   "cell_type": "markdown",
   "id": "6e72e504-8e57-4660-afa5-9b7435e5d545",
   "metadata": {},
   "source": [
    "# Loading"
   ]
  },
  {
   "cell_type": "code",
   "execution_count": 2,
   "id": "b9ae2208-f22f-4c88-8a1d-da8902d0cd98",
   "metadata": {},
   "outputs": [],
   "source": [
    "# locations\n",
    "cwd = os.getcwd()\n",
    "doc_loc = \"data/UL9540_3.pdf\""
   ]
  },
  {
   "cell_type": "code",
   "execution_count": 3,
   "id": "1b916578-dcea-4e90-9865-929844e9778f",
   "metadata": {},
   "outputs": [
    {
     "name": "stdout",
     "output_type": "stream",
     "text": [
      "Loaded 79 pages\n"
     ]
    }
   ],
   "source": [
    "loader2 = UnstructuredPDFLoader(os.path.join(cwd, doc_loc))\n",
    "pages = loader2.load_and_split()\n",
    "\n",
    "print(f\"Loaded {len(pages)} pages\")  "
   ]
  },
  {
   "cell_type": "markdown",
   "id": "8d63c01f-5042-442c-aac3-59838628e0fc",
   "metadata": {},
   "source": [
    "## Cleaning up"
   ]
  },
  {
   "cell_type": "code",
   "execution_count": 4,
   "id": "c66baffe-3f96-4608-b104-bef807a60af6",
   "metadata": {},
   "outputs": [],
   "source": [
    "def clean_text(txt: str, patterns: List[str], matchers: List = []) -> str:\n",
    "    \"\"\" Replaces patterns in the patterns with empty strings \"\"\"\n",
    "    for i, pat in enumerate(patterns):\n",
    "        txt = txt.replace(pat, '')\n",
    "    if len(matchers)>0:\n",
    "        for matcher in matchers:\n",
    "            if type(matcher) != None:\n",
    "                txt = matcher.sub(\"\", txt)\n",
    "    return txt\n",
    "\n",
    "def custom_sentence_splitter(text: str) -> List[str]:\n",
    "    return re.split(r\"\\.\\n\", text)"
   ]
  },
  {
   "cell_type": "code",
   "execution_count": 5,
   "id": "a459e9d2-7342-4eb0-8648-f896b53bfaee",
   "metadata": {},
   "outputs": [],
   "source": [
    "# the document most likely will contain various copyright information that will confuse the LLM\n",
    "# inspect it and define proper patterns/strings\n",
    "# some of the patterns could be RegEx patterns\n",
    "# the wrapper clean_text() accepts both list of strings for replacement (1:1 match) and re.compile() patterns\n",
    "\n",
    "# these are examples of the strings you would like to remove\n",
    "core_string1 = \"\"\"string1\"\"\"\n",
    "core_string2 = \"ANSI/CAN/UL 9540\\n\\n\"\n",
    "core_string3 = \"1 0 : 1 7 A M\"\n",
    "core_string4 = \"\"\"\\nl\\n\"\"\"\n",
    "strings = [core_string0, core_string1, core_string2, core_string3, core_string4]\n",
    "\n",
    "# ReGex matchers\n",
    "matchers = [\n",
    "    re.compile(r\"\\n\\d+\\n\"),\n",
    "    re.compile(r\"(\\n){3}\")\n",
    "]"
   ]
  },
  {
   "cell_type": "code",
   "execution_count": 6,
   "id": "f03cf617-5909-4982-bf18-7ef4b663fd83",
   "metadata": {},
   "outputs": [],
   "source": [
    "doc_name = \"UL9540\" #our source \n",
    "for i, page in enumerate(pages):\n",
    "    page.page_content = clean_text(page.page_content, strings, matchers)\n",
    "    page.metadata['source'] = doc_name"
   ]
  },
  {
   "cell_type": "code",
   "execution_count": null,
   "id": "714420f6-97a8-4c60-887a-1ec62ff558e8",
   "metadata": {},
   "outputs": [],
   "source": [
    "preparsed_loc = \"preparsed_datadata/ul9540_pages.jsonl\"\n",
    "save_docs_to_jsonl(pages, os.path.join(cwd, preparsed_loc))"
   ]
  },
  {
   "cell_type": "markdown",
   "id": "c07b908f-ef8c-4898-9114-43fd6fa7147a",
   "metadata": {},
   "source": [
    "# Split each page"
   ]
  },
  {
   "cell_type": "markdown",
   "id": "be62185d-1efc-4fab-8832-e5a32180d16e",
   "metadata": {},
   "source": [
    "We will use combination of Semantic and Recursive text splitters. In our case the semantic splitter produces chunks of data without abrupt splittings of paragraphs. Unfortunately, it tends to produce sometimes very large chunks, which are no good for both inference performance and information extraction perspectives. Therefore we will do several passes recusrsively on the splits. If there are some documents left longer than we would like to, then we can apply simple recursive splitter to these.\n",
    "<br><br>\n",
    "5 iterations seems to be enoug to leave approx. 5.8% of larger chunks"
   ]
  },
  {
   "cell_type": "code",
   "execution_count": 7,
   "id": "12659bfd-0bdc-4bdc-bef7-f32232107190",
   "metadata": {},
   "outputs": [],
   "source": [
    "from langchain.text_splitter import RecursiveCharacterTextSplitter\n",
    "from langchain_experimental.text_splitter import SemanticChunker\n",
    "from langchain.embeddings import CacheBackedEmbeddings, HuggingFaceEmbeddings\n",
    "from langchain.storage import LocalFileStore"
   ]
  },
  {
   "cell_type": "code",
   "execution_count": 8,
   "id": "730db451-677b-4dc9-ad98-2578336ea113",
   "metadata": {},
   "outputs": [],
   "source": [
    "def recursive_semant_splitter(docs, splitter, max_len, depth=2):\n",
    "    first_split = []\n",
    "    for dc in tqdm(docs, leave=True):\n",
    "        first_split += splitter.transform_documents([dc])\n",
    "        \n",
    "    sem_split_docs = first_split\n",
    "    if depth>1:\n",
    "        for _ in tqdm(range(depth)):\n",
    "            len_dist = count_lengths(sem_split_docs)\n",
    "            if np.max(len_dist)<=max_len:\n",
    "                break\n",
    "            sem_split_docs = _split_semant_rec(sem_split_docs, splitter, max_len)\n",
    "    return sem_split_docs            \n",
    "\n",
    "def _split_semant_rec(docs, splitter, max_len):\n",
    "    docs2split = []\n",
    "    unsplitted = []\n",
    "    for dc in docs:\n",
    "        if len(dc.page_content) > max_len:\n",
    "            docs2split.append(dc)\n",
    "        else:\n",
    "            unsplitted += [dc]\n",
    "    t = splitter.transform_documents(docs2split)\n",
    "    return unsplitted + t\n",
    "\n",
    "def count_lengths(docs):\n",
    "    lens = []\n",
    "    for doc in docs:\n",
    "        lens.append(len(doc.page_content))\n",
    "    return np.array(lens, dtype = int)"
   ]
  },
  {
   "cell_type": "code",
   "execution_count": 36,
   "id": "c9c2fd39-e46d-44e2-b229-6dcf5262c246",
   "metadata": {},
   "outputs": [],
   "source": [
    "chunk_size = 1024\n",
    "min_len = 256\n",
    "depths = 5\n",
    "chunk_overlap = 128\n",
    "\n",
    "rec_splitter = RecursiveCharacterTextSplitter(\n",
    "    chunk_size = chunk_size, # the character length of the chunk\n",
    "    chunk_overlap = chunk_overlap, # the character length of the overlap between chunks\n",
    "    length_function = len, # the length function - in this case, character length (aka the python len() fn.)\n",
    ")"
   ]
  },
  {
   "cell_type": "code",
   "execution_count": 10,
   "id": "6fa1ee8b-a2b6-458e-8e1c-2623b316abb1",
   "metadata": {},
   "outputs": [],
   "source": [
    "# Choose your embedding model\n",
    "embed_model_id = 'BAAI/bge-large-en-v1.5'\n",
    "\n",
    "# It's a good idea to cache the model\n",
    "# so you do not download it every time you instantiate it\n",
    "model_cache =  '/models/model_cache' \n",
    "\n",
    "# location for the embeddings cache\n",
    "# it's a good idea to have\n",
    "embed_cache = \"./cache\"\n",
    "store = LocalFileStore(embed_cache)\n",
    "\n",
    "# any model kwargs\n",
    "# in our case only to use a GPU\n",
    "model_kwargs = {'device': 'cuda', \n",
    "               }\n",
    "\n",
    "core_embeddings_model = HuggingFaceEmbeddings(\n",
    "    model_name=embed_model_id, cache_folder=model_cache,\n",
    "    model_kwargs=model_kwargs,\n",
    "    show_progress=False # set to False if you do not want to see the progress\n",
    ")\n",
    "\n",
    "embedder = CacheBackedEmbeddings.from_bytes_store(\n",
    "    core_embeddings_model, store, namespace=embed_model_id\n",
    ")\n",
    "\n",
    "semantic_splitter = SemanticChunker(core_embeddings_model)"
   ]
  },
  {
   "cell_type": "code",
   "execution_count": 37,
   "id": "c951d0ec-08f9-4a9a-b68d-a7ba3df09d9a",
   "metadata": {},
   "outputs": [
    {
     "data": {
      "application/vnd.jupyter.widget-view+json": {
       "model_id": "2481061410444e298a801b8cd3f7f86d",
       "version_major": 2,
       "version_minor": 0
      },
      "text/plain": [
       "  0%|          | 0/79 [00:00<?, ?it/s]"
      ]
     },
     "metadata": {},
     "output_type": "display_data"
    },
    {
     "data": {
      "application/vnd.jupyter.widget-view+json": {
       "model_id": "540d5ea727134c1d988f01aada18c51a",
       "version_major": 2,
       "version_minor": 0
      },
      "text/plain": [
       "  0%|          | 0/5 [00:00<?, ?it/s]"
      ]
     },
     "metadata": {},
     "output_type": "display_data"
    },
    {
     "name": "stdout",
     "output_type": "stream",
     "text": [
      "CPU times: user 37.9 s, sys: 291 ms, total: 38.1 s\n",
      "Wall time: 36.8 s\n"
     ]
    }
   ],
   "source": [
    "%%time\n",
    "# do the recursive semantic splitting\n",
    "sem_split_docs = recursive_semant_splitter(pages, semantic_splitter, chunk_size, depths)"
   ]
  },
  {
   "cell_type": "code",
   "execution_count": 38,
   "id": "beaa3def-68ff-4315-a2a1-d0fb16a2337d",
   "metadata": {},
   "outputs": [
    {
     "name": "stdout",
     "output_type": "stream",
     "text": [
      "(429,)\n",
      "Percentage of the documents larger than 1024: 5.83%\n"
     ]
    },
    {
     "data": {
      "image/png": "[encoded data removed]",
      "text/plain": [
       "<Figure size 640x480 with 1 Axes>"
      ]
     },
     "metadata": {},
     "output_type": "display_data"
    }
   ],
   "source": [
    "# plot the distribution of the resulting sizes of the documents\n",
    "ls = count_lengths(sem_split_docs)\n",
    "print(ls.shape)\n",
    "_ = plt.hist(ls, bins=25)\n",
    "print(f\"Percentage of the documents larger than {chunk_size}: {ls[ls>chunk_size].shape[0]/ls.shape[0]*100:.2f}%\")"
   ]
  },
  {
   "cell_type": "markdown",
   "id": "cc5f0b12-8757-47cc-8e57-9d344ceb9024",
   "metadata": {},
   "source": [
    "There are still documents too large. We will split them using the simple recursive splitter defined above"
   ]
  },
  {
   "cell_type": "code",
   "execution_count": 24,
   "id": "12182fd8-c08b-40c1-bdab-41041112b0d6",
   "metadata": {},
   "outputs": [],
   "source": [
    "final_semantic_split = []\n",
    "for dc in sem_split_docs:\n",
    "    if len(dc.page_content)>chunk_size:\n",
    "        final_semantic_split += rec_splitter.transform_documents([dc])\n",
    "    else:\n",
    "        final_semantic_split += [dc]"
   ]
  },
  {
   "cell_type": "code",
   "execution_count": 29,
   "id": "c2cb2462-275e-43a0-bdf9-5964d7159fc4",
   "metadata": {},
   "outputs": [
    {
     "name": "stdout",
     "output_type": "stream",
     "text": [
      "(479,)\n",
      "Percentage of the documents larger than 1024: 0.00%\n"
     ]
    },
    {
     "data": {
      "image/png": "[encoded data removed]",
      "text/plain": [
       "<Figure size 640x480 with 1 Axes>"
      ]
     },
     "metadata": {},
     "output_type": "display_data"
    }
   ],
   "source": [
    "# plot the distribution of the final documents\n",
    "ls = count_lengths(final_semantic_split)\n",
    "print(ls.shape)\n",
    "_ = plt.hist(ls, bins = 25)\n",
    "print(f\"Percentage of the documents larger than {chunk_size}: {ls[ls>chunk_size].shape[0]/ls.shape[0]*100:.2f}%\")"
   ]
  },
  {
   "cell_type": "code",
   "execution_count": null,
   "id": "ba92cf25-75cb-429c-8759-18d8af00d4ef",
   "metadata": {},
   "outputs": [],
   "source": [
    "from copy import copy as CP"
   ]
  },
  {
   "cell_type": "code",
   "execution_count": 30,
   "id": "c26ed241-9b14-4ee1-afea-f4e9f1b529fc",
   "metadata": {},
   "outputs": [],
   "source": [
    "# finally, add document name and section to the actual document text to help retrieval\n",
    "docs = CP(final_semantic_split)\n",
    "for dc in docs:\n",
    "    text = dc.page_content\n",
    "    meta = dc.metadata\n",
    "    dc.page_content = f\"Regulation: {meta['source']}\\n-----------\\n{text}\""
   ]
  },
  {
   "cell_type": "code",
   "execution_count": 31,
   "id": "301e3060-1fbf-4346-ab08-f8c15d9bbb42",
   "metadata": {},
   "outputs": [],
   "source": [
    "final_doc_name = f\"{doc_name}_parsed_semantic_max-{chunk_size}-overlap-{chunk_overlap}_depth-{depths}.jsonl\"\n",
    "preparsed_loc = \"preparsed_datadata\"\n",
    "save_docs_to_jsonl(docs, os.path.join(cwd, *(preparsed_loc, final_doc_name)))"
   ]
  },
  {
   "cell_type": "code",
   "execution_count": 32,
   "id": "a5edbce8-5eec-4fba-a043-64868d1e9b29",
   "metadata": {},
   "outputs": [],
   "source": [
    "## just a simple recursice chunking\n",
    "rec_split_docs = rec_splitter.transform_documents(pages)\n",
    "\n",
    "final_doc_name = f\"{doc_name}_parsed_recursive_max-{chunk_size}-overlap-{chunk_overlap}.jsonl\"\n",
    "preparsed_loc = \"preparsed_datadata\"\n",
    "save_docs_to_jsonl(rec_split_docs, os.path.join(cwd, *(preparsed_loc, final_doc_name)))"
   ]
  }
 ],
 "metadata": {
  "kernelspec": {
   "display_name": "Python [conda env:python-rag]",
   "language": "python",
   "name": "conda-env-python-rag-py"
  },
  "language_info": {
   "codemirror_mode": {
    "name": "ipython",
    "version": 3
   },
   "file_extension": ".py",
   "mimetype": "text/x-python",
   "name": "python",
   "nbconvert_exporter": "python",
   "pygments_lexer": "ipython3",
   "version": "3.10.13"
  }
 },
 "nbformat": 4,
 "nbformat_minor": 5
}
